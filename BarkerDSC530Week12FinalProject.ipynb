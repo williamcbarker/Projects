{
 "cells": [
  {
   "cell_type": "code",
   "execution_count": 37,
   "id": "2a5f6b5f",
   "metadata": {},
   "outputs": [],
   "source": [
    "# William Barker\n",
    "# DSC 530\n",
    "# Week 12 Final Project\n",
    "\n",
    "import os\n",
    "\n",
    "from os.path import basename, exists"
   ]
  },
  {
   "cell_type": "code",
   "execution_count": 38,
   "id": "a498bda9",
   "metadata": {},
   "outputs": [],
   "source": [
    "download(\"https://github.com/AllenDowney/ThinkStats2/raw/master/code/thinkstats2.py\")\n",
    "download(\"https://github.com/AllenDowney/ThinkStats2/raw/master/code/thinkplot.py\")"
   ]
  },
  {
   "cell_type": "code",
   "execution_count": 39,
   "id": "8cb611c9",
   "metadata": {},
   "outputs": [],
   "source": [
    "import thinkstats2\n",
    "import thinkplot\n",
    "import numpy as np\n",
    "import pandas as pd"
   ]
  },
  {
   "cell_type": "code",
   "execution_count": null,
   "id": "cc25de6a",
   "metadata": {},
   "outputs": [],
   "source": [
    "# There has been a long-running myth/stereotype that the further south you go in a city the more poor or worse it becomes.\n",
    "# Many comedy shows like American Dad or Family Guy make jokes related to this myth but I hypothesis that the geographical\n",
    "# location of a city is actually irrelevant to well off that part of the city is. Using data on the amount of homeless students\n",
    "# enrolled in public schools and public charter schools in the DC area, we will try and see if homelessness is more common\n",
    "# further south in the city compared to up north."
   ]
  },
  {
   "cell_type": "code",
   "execution_count": 40,
   "id": "ebc2396f",
   "metadata": {},
   "outputs": [],
   "source": [
    "# Variables used are school_code, homeless_enrollment, total_enrollment, latitude, and longitude"
   ]
  },
  {
   "cell_type": "code",
   "execution_count": 41,
   "id": "4389d914",
   "metadata": {},
   "outputs": [],
   "source": [
    "# school_code is the code name of the school\n",
    "# homeless_enrollment is the amount of homeless students enrolled at each school\n",
    "# total_enrollment is the total amount of students enrolled at the school\n",
    "# latitude is the latitude of the school\n",
    "# longtitude is the longtide of the school"
   ]
  },
  {
   "cell_type": "code",
   "execution_count": 48,
   "id": "3c90fd39",
   "metadata": {},
   "outputs": [],
   "source": [
    "homeless = pd.read_csv(\"/Users/wcb14/Downloads/HomelessEnroll_BySchool_SY1213.csv\")"
   ]
  },
  {
   "cell_type": "code",
   "execution_count": 49,
   "id": "0f6f7aff",
   "metadata": {},
   "outputs": [
    {
     "name": "stdout",
     "output_type": "stream",
     "text": [
      "     School Code                                        School Name  \\\n",
      "0            202                                           AITON ES   \n",
      "1            203                                   AMIDON BOWEN  ES   \n",
      "2            450                                       ANACOSTIA HS   \n",
      "3            140  APPLETREE EARLY LEARNING CENTER PCS COLUMBIA H...   \n",
      "4            181                            ARTS AND TECHNOLOGY PCS   \n",
      "..           ...                                                ...   \n",
      "111          335                                        WHEATLEY EC   \n",
      "112          210                             WILLIAM E. DOAR JR PCS   \n",
      "113          463                                          WILSON HS   \n",
      "114          355                                         WINSTON EC   \n",
      "115          464                                     WOODSON H D HS   \n",
      "\n",
      "     Homeless Enrollment  Total Enrollment   latitude  longitude  \n",
      "0                     27               252  38.897002 -76.933701  \n",
      "1                     33               293  38.879515 -77.018125  \n",
      "2                     90               697  38.870084 -76.983077  \n",
      "3                     10               161  38.925244 -77.032744  \n",
      "4                     10               629  38.891948 -76.924645  \n",
      "..                   ...               ...        ...        ...  \n",
      "111                   54               465  38.904118 -76.988501  \n",
      "112                   12               422  38.923645 -76.995853  \n",
      "113                   23              1713  38.950157 -77.077776  \n",
      "114                   23               308  38.857576 -76.962826  \n",
      "115                   48               710  38.896787 -76.922328  \n",
      "\n",
      "[116 rows x 6 columns]\n"
     ]
    }
   ],
   "source": [
    "print(homeless)"
   ]
  },
  {
   "cell_type": "code",
   "execution_count": 50,
   "id": "6369a0f5",
   "metadata": {},
   "outputs": [
    {
     "data": {
      "text/html": [
       "<div>\n",
       "<style scoped>\n",
       "    .dataframe tbody tr th:only-of-type {\n",
       "        vertical-align: middle;\n",
       "    }\n",
       "\n",
       "    .dataframe tbody tr th {\n",
       "        vertical-align: top;\n",
       "    }\n",
       "\n",
       "    .dataframe thead th {\n",
       "        text-align: right;\n",
       "    }\n",
       "</style>\n",
       "<table border=\"1\" class=\"dataframe\">\n",
       "  <thead>\n",
       "    <tr style=\"text-align: right;\">\n",
       "      <th></th>\n",
       "      <th>School Code</th>\n",
       "      <th>School Name</th>\n",
       "      <th>Homeless Enrollment</th>\n",
       "      <th>Total Enrollment</th>\n",
       "      <th>latitude</th>\n",
       "      <th>longitude</th>\n",
       "    </tr>\n",
       "  </thead>\n",
       "  <tbody>\n",
       "    <tr>\n",
       "      <th>0</th>\n",
       "      <td>202</td>\n",
       "      <td>AITON ES</td>\n",
       "      <td>27</td>\n",
       "      <td>252</td>\n",
       "      <td>38.897002</td>\n",
       "      <td>-76.933701</td>\n",
       "    </tr>\n",
       "    <tr>\n",
       "      <th>1</th>\n",
       "      <td>203</td>\n",
       "      <td>AMIDON BOWEN  ES</td>\n",
       "      <td>33</td>\n",
       "      <td>293</td>\n",
       "      <td>38.879515</td>\n",
       "      <td>-77.018125</td>\n",
       "    </tr>\n",
       "    <tr>\n",
       "      <th>2</th>\n",
       "      <td>450</td>\n",
       "      <td>ANACOSTIA HS</td>\n",
       "      <td>90</td>\n",
       "      <td>697</td>\n",
       "      <td>38.870084</td>\n",
       "      <td>-76.983077</td>\n",
       "    </tr>\n",
       "    <tr>\n",
       "      <th>3</th>\n",
       "      <td>140</td>\n",
       "      <td>APPLETREE EARLY LEARNING CENTER PCS COLUMBIA H...</td>\n",
       "      <td>10</td>\n",
       "      <td>161</td>\n",
       "      <td>38.925244</td>\n",
       "      <td>-77.032744</td>\n",
       "    </tr>\n",
       "    <tr>\n",
       "      <th>4</th>\n",
       "      <td>181</td>\n",
       "      <td>ARTS AND TECHNOLOGY PCS</td>\n",
       "      <td>10</td>\n",
       "      <td>629</td>\n",
       "      <td>38.891948</td>\n",
       "      <td>-76.924645</td>\n",
       "    </tr>\n",
       "  </tbody>\n",
       "</table>\n",
       "</div>"
      ],
      "text/plain": [
       "   School Code                                        School Name  \\\n",
       "0          202                                           AITON ES   \n",
       "1          203                                   AMIDON BOWEN  ES   \n",
       "2          450                                       ANACOSTIA HS   \n",
       "3          140  APPLETREE EARLY LEARNING CENTER PCS COLUMBIA H...   \n",
       "4          181                            ARTS AND TECHNOLOGY PCS   \n",
       "\n",
       "   Homeless Enrollment  Total Enrollment   latitude  longitude  \n",
       "0                   27               252  38.897002 -76.933701  \n",
       "1                   33               293  38.879515 -77.018125  \n",
       "2                   90               697  38.870084 -76.983077  \n",
       "3                   10               161  38.925244 -77.032744  \n",
       "4                   10               629  38.891948 -76.924645  "
      ]
     },
     "execution_count": 50,
     "metadata": {},
     "output_type": "execute_result"
    }
   ],
   "source": [
    "homeless.head()"
   ]
  },
  {
   "cell_type": "code",
   "execution_count": 70,
   "id": "2886783e",
   "metadata": {},
   "outputs": [
    {
     "data": {
      "text/plain": [
       "Text(0.5, 1.0, 'School Codes')"
      ]
     },
     "execution_count": 70,
     "metadata": {},
     "output_type": "execute_result"
    },
    {
     "data": {
      "image/png": "[encoded data removed]",
      "text/plain": [
       "<Figure size 432x288 with 1 Axes>"
      ]
     },
     "metadata": {
      "needs_background": "light"
     },
     "output_type": "display_data"
    }
   ],
   "source": [
    "# The histogram for the School Codes variable\n",
    "\n",
    "import matplotlib.pyplot as plt\n",
    "sc = plt.hist(homeless[\"School Code\"])\n",
    "plt.xlabel('School Code')\n",
    "plt.ylabel('# of Schools in code range')\n",
    "plt.title('School Codes')"
   ]
  },
  {
   "cell_type": "code",
   "execution_count": 71,
   "id": "03de0e1a",
   "metadata": {},
   "outputs": [
    {
     "data": {
      "text/plain": [
       "Text(0.5, 1.0, 'Homeless Students')"
      ]
     },
     "execution_count": 71,
     "metadata": {},
     "output_type": "execute_result"
    },
    {
     "data": {
      "image/png": "[encoded data removed]",
      "text/plain": [
       "<Figure size 432x288 with 1 Axes>"
      ]
     },
     "metadata": {
      "needs_background": "light"
     },
     "output_type": "display_data"
    }
   ],
   "source": [
    "# The histogram for the Homeless Enrollment variable\n",
    "\n",
    "hs = plt.hist(homeless[\"Homeless Enrollment\"])\n",
    "plt.xlabel('# of Homeless')\n",
    "plt.ylabel('# of schools with that many homeless')\n",
    "plt.title('Homeless Students')"
   ]
  },
  {
   "cell_type": "code",
   "execution_count": 72,
   "id": "f144b7cd",
   "metadata": {},
   "outputs": [
    {
     "data": {
      "text/plain": [
       "Text(0.5, 1.0, 'Total Enrollment')"
      ]
     },
     "execution_count": 72,
     "metadata": {},
     "output_type": "execute_result"
    },
    {
     "data": {
      "image/png": "[encoded data removed]",
      "text/plain": [
       "<Figure size 432x288 with 1 Axes>"
      ]
     },
     "metadata": {
      "needs_background": "light"
     },
     "output_type": "display_data"
    }
   ],
   "source": [
    "# The histogram for the Total Enrollment variable\n",
    "\n",
    "te = plt.hist(homeless[\"Total Enrollment\"])\n",
    "plt.xlabel('Total Enrollment')\n",
    "plt.ylabel('# of Schools with that many enrolled')\n",
    "plt.title('Total Enrollment')"
   ]
  },
  {
   "cell_type": "code",
   "execution_count": 73,
   "id": "a8eb9599",
   "metadata": {},
   "outputs": [
    {
     "data": {
      "text/plain": [
       "Text(0.5, 1.0, 'Latitudes')"
      ]
     },
     "execution_count": 73,
     "metadata": {},
     "output_type": "execute_result"
    },
    {
     "data": {
      "image/png": "[encoded data removed]",
      "text/plain": [
       "<Figure size 432x288 with 1 Axes>"
      ]
     },
     "metadata": {
      "needs_background": "light"
     },
     "output_type": "display_data"
    }
   ],
   "source": [
    "# The histogram for the latitude variable\n",
    "\n",
    "la = plt.hist(homeless[\"latitude\"])\n",
    "plt.xlabel('latitude')\n",
    "plt.ylabel('Count')\n",
    "plt.title('Latitudes')"
   ]
  },
  {
   "cell_type": "code",
   "execution_count": 74,
   "id": "34eb815c",
   "metadata": {},
   "outputs": [
    {
     "data": {
      "text/plain": [
       "Text(0.5, 1.0, 'Longitudes')"
      ]
     },
     "execution_count": 74,
     "metadata": {},
     "output_type": "execute_result"
    },
    {
     "data": {
      "image/png": "[encoded data removed]",
      "text/plain": [
       "<Figure size 432x288 with 1 Axes>"
      ]
     },
     "metadata": {
      "needs_background": "light"
     },
     "output_type": "display_data"
    }
   ],
   "source": [
    "#The histogram for the longitude variable\n",
    "\n",
    "lo = plt.hist(homeless[\"longitude\"])\n",
    "plt.xlabel('longitude')\n",
    "plt.ylabel('Count')\n",
    "plt.title('Longitudes')"
   ]
  },
  {
   "cell_type": "code",
   "execution_count": 87,
   "id": "5e7287df",
   "metadata": {},
   "outputs": [
    {
     "name": "stdout",
     "output_type": "stream",
     "text": [
      "401.41379310344826\n",
      "202\n",
      "133933.67076461768\n",
      "102\n",
      "3070\n"
     ]
    }
   ],
   "source": [
    "# Mean, mode, spread and tails of the school code variable\n",
    "\n",
    "import statistics\n",
    "print(statistics.mean(homeless['School Code']))\n",
    "print(statistics.mode(homeless['School Code']))\n",
    "print(statistics.variance(homeless['School Code']))\n",
    "print(min(homeless['School Code']))\n",
    "print(max(homeless['School Code']))"
   ]
  },
  {
   "cell_type": "code",
   "execution_count": 88,
   "id": "6169605d",
   "metadata": {},
   "outputs": [
    {
     "name": "stdout",
     "output_type": "stream",
     "text": [
      "28.29310344827586\n",
      "12\n",
      "304.66116941529236\n",
      "10\n",
      "92\n"
     ]
    }
   ],
   "source": [
    "# Mean, mode, spread and tails of the homeless enrollment variable\n",
    "\n",
    "print(statistics.mean(homeless['Homeless Enrollment']))\n",
    "print(statistics.mode(homeless['Homeless Enrollment']))\n",
    "print(statistics.variance(homeless['Homeless Enrollment']))\n",
    "print(min(homeless['Homeless Enrollment']))\n",
    "print(max(homeless['Homeless Enrollment']))"
   ]
  },
  {
   "cell_type": "code",
   "execution_count": 89,
   "id": "7403b377",
   "metadata": {},
   "outputs": [
    {
     "name": "stdout",
     "output_type": "stream",
     "text": [
      "408.98275862068965\n",
      "308\n",
      "52049.095352323835\n",
      "124\n",
      "1713\n"
     ]
    }
   ],
   "source": [
    "# Mean, mode, spread and tails of the total enrollment variable\n",
    "\n",
    "print(statistics.mean(homeless['Total Enrollment']))\n",
    "print(statistics.mode(homeless['Total Enrollment']))\n",
    "print(statistics.variance(homeless['Total Enrollment']))\n",
    "print(min(homeless['Total Enrollment']))\n",
    "print(max(homeless['Total Enrollment']))"
   ]
  },
  {
   "cell_type": "code",
   "execution_count": 90,
   "id": "f67448b5",
   "metadata": {},
   "outputs": [
    {
     "name": "stdout",
     "output_type": "stream",
     "text": [
      "38.89530891612069\n",
      "38.88262754\n",
      "0.001328908448092959\n",
      "38.82390393\n",
      "38.97504287\n"
     ]
    }
   ],
   "source": [
    "# Mean, mode, spread and tails of the latitude variable\n",
    "\n",
    "print(statistics.mean(homeless['latitude']))\n",
    "print(statistics.mode(homeless['latitude']))\n",
    "print(statistics.variance(homeless['latitude']))\n",
    "print(min(homeless['latitude']))\n",
    "print(max(homeless['latitude']))"
   ]
  },
  {
   "cell_type": "code",
   "execution_count": 91,
   "id": "2ad4097a",
   "metadata": {},
   "outputs": [
    {
     "name": "stdout",
     "output_type": "stream",
     "text": [
      "-76.98844119025863\n",
      "-76.93439427\n",
      "0.0011183408606399324\n",
      "-77.0777757\n",
      "-76.91992701\n"
     ]
    }
   ],
   "source": [
    "# Mean, mode, spread and tails of the longitude variable\n",
    "\n",
    "print(statistics.mean(homeless['longitude']))\n",
    "print(statistics.mode(homeless['longitude']))\n",
    "print(statistics.variance(homeless['longitude']))\n",
    "print(min(homeless['longitude']))\n",
    "print(max(homeless['longitude']))"
   ]
  },
  {
   "cell_type": "code",
   "execution_count": 105,
   "id": "0ee6c731",
   "metadata": {},
   "outputs": [
    {
     "data": {
      "image/png": "[encoded data removed]",
      "text/plain": [
       "<Figure size 864x432 with 2 Axes>"
      ]
     },
     "metadata": {
      "needs_background": "light"
     },
     "output_type": "display_data"
    },
    {
     "data": {
      "text/plain": [
       "<Figure size 576x432 with 0 Axes>"
      ]
     },
     "metadata": {},
     "output_type": "display_data"
    }
   ],
   "source": [
    "# Creating a pmf of homeless students campared to all other students\n",
    "\n",
    "first_pmf = thinkstats2.Pmf(homeless['Homeless Enrollment'])\n",
    "other_pmf = thinkstats2.Pmf(homeless['Total Enrollment'])\n",
    "thinkplot.PrePlot(2, cols=2)\n",
    "thinkplot.Hist(first_pmf, align='right', color='purple', edgecolor='black')\n",
    "thinkplot.Hist(other_pmf, align='left', color='blue')\n",
    "thinkplot.Config(xlabel='Homeless', ylabel='Probability', axis=[10, 100, 0, 0.08])\n",
    "thinkplot.PrePlot(2)\n",
    "thinkplot.SubPlot(2)\n",
    "thinkplot.Pmfs([first_pmf, other_pmf])\n",
    "thinkplot.Show(xlabel='Homeless', axis=[10, 100, 0, 0.08])"
   ]
  },
  {
   "cell_type": "code",
   "execution_count": 106,
   "id": "d00d4726",
   "metadata": {},
   "outputs": [
    {
     "data": {
      "image/png": "[encoded data removed]",
      "text/plain": [
       "<Figure size 432x288 with 1 Axes>"
      ]
     },
     "metadata": {
      "needs_background": "light"
     },
     "output_type": "display_data"
    },
    {
     "data": {
      "text/plain": [
       "<Figure size 576x432 with 0 Axes>"
      ]
     },
     "metadata": {},
     "output_type": "display_data"
    }
   ],
   "source": [
    "# Creating a cdf of the homeless enrollment variable\n",
    "# The curve is highly abnormal with lower values rising quickly before beginning to platue. \n",
    "# It appears that having more than 40 homeless students is uncommon\n",
    "\n",
    "cdf = thinkstats2.Cdf(homeless['Homeless Enrollment'], label='Homeless')\n",
    "thinkplot.Cdf(cdf)\n",
    "thinkplot.Show(xlabel='Homeless', ylabel='CDF')"
   ]
  },
  {
   "cell_type": "code",
   "execution_count": 109,
   "id": "2bb706f6",
   "metadata": {},
   "outputs": [
    {
     "name": "stdout",
     "output_type": "stream",
     "text": [
      "Mean, Var 27.894736842105264 268.63804247460763\n",
      "Sigma 16.390181282542535\n"
     ]
    },
    {
     "data": {
      "image/png": "[encoded data removed]",
      "text/plain": [
       "<Figure size 432x288 with 1 Axes>"
      ]
     },
     "metadata": {
      "needs_background": "light"
     },
     "output_type": "display_data"
    }
   ],
   "source": [
    "# Creating and plotting an analytical distribution \n",
    "# Our plot was mostly aligned with the normal distribution model with the exception of the left tail\n",
    "# This can be attributed to the fact that any schools with less than 10 homeless students were ommitted from the data,\n",
    "# in an attempt to protect those students privacy as that could could make it easier to identify them.\n",
    "\n",
    "mu, var = thinkstats2.TrimmedMeanVar(homeless['Homeless Enrollment'], p=0.01)\n",
    "print(\"Mean, Var\", mu, var)\n",
    "\n",
    "# plot the model\n",
    "sigma = np.sqrt(var)\n",
    "print(\"Sigma\", sigma)\n",
    "xs, ps = thinkstats2.RenderNormalCdf(mu, sigma, low=0, high=12.5)\n",
    "\n",
    "thinkplot.Plot(xs, ps, label=\"model\", color=\"0.6\")\n",
    "\n",
    "# plot the data\n",
    "cdf = thinkstats2.Cdf(homeless['Homeless Enrollment'], label=\"data\")\n",
    "\n",
    "thinkplot.PrePlot(1)\n",
    "thinkplot.Cdf(cdf)\n",
    "thinkplot.Config(title=\"Homeless Students\", xlabel=\"Homeless Students\", ylabel=\"CDF\")"
   ]
  },
  {
   "cell_type": "code",
   "execution_count": 118,
   "id": "4962c3c3",
   "metadata": {},
   "outputs": [
    {
     "data": {
      "image/png": "[encoded data removed]",
      "text/plain": [
       "<Figure size 432x288 with 1 Axes>"
      ]
     },
     "metadata": {
      "needs_background": "light"
     },
     "output_type": "display_data"
    },
    {
     "data": {
      "text/plain": [
       "<Figure size 576x432 with 0 Axes>"
      ]
     },
     "metadata": {},
     "output_type": "display_data"
    }
   ],
   "source": [
    "# Creating a scatterplot comparing two variables\n",
    "\n",
    "nohome = homeless['Homeless Enrollment']\n",
    "lat = homeless['latitude']\n",
    "thinkplot.Scatter(nohome, lat, color='purple', alpha=0.2)\n",
    "thinkplot.Show(xlabel='Homeless Students', ylabel='Latitude', axis=[10, 100, 38.8, 39.0])"
   ]
  },
  {
   "cell_type": "code",
   "execution_count": 119,
   "id": "413870d0",
   "metadata": {},
   "outputs": [],
   "source": [
    "# Define the covariance function\n",
    "\n",
    "def Cov(xs, ys, meanx=None, meany=None):\n",
    "    xs = np.asarray(xs)\n",
    "    ys = np.asarray(ys)\n",
    "\n",
    "    if meanx is None:\n",
    "        meanx = np.mean(xs)\n",
    "    if meany is None:\n",
    "        meany = np.mean(ys)\n",
    "\n",
    "    cov = np.dot(xs-meanx, ys-meany) / len(xs)\n",
    "    return cov"
   ]
  },
  {
   "cell_type": "code",
   "execution_count": 120,
   "id": "2c1aefb7",
   "metadata": {},
   "outputs": [
    {
     "data": {
      "text/plain": [
       "0.019656337602556872"
      ]
     },
     "execution_count": 120,
     "metadata": {},
     "output_type": "execute_result"
    }
   ],
   "source": [
    "# Find the covariance\n",
    "\n",
    "Cov(nohome, lat)"
   ]
  },
  {
   "cell_type": "code",
   "execution_count": 121,
   "id": "2b39c1c8",
   "metadata": {},
   "outputs": [],
   "source": [
    "# Define the Pearsons Correlation function\n",
    "\n",
    "def Corr(xs, ys):\n",
    "    xs = np.asarray(xs)\n",
    "    ys = np.asarray(ys)\n",
    "\n",
    "    meanx, varx = thinkstats2.MeanVar(xs)\n",
    "    meany, vary = thinkstats2.MeanVar(ys)\n",
    "\n",
    "    corr = Cov(xs, ys, meanx, meany) / np.sqrt(varx * vary)\n",
    "    return corr"
   ]
  },
  {
   "cell_type": "code",
   "execution_count": 122,
   "id": "15d0066d",
   "metadata": {},
   "outputs": [
    {
     "data": {
      "text/plain": [
       "0.031160661456378587"
      ]
     },
     "execution_count": 122,
     "metadata": {},
     "output_type": "execute_result"
    }
   ],
   "source": [
    "# Find Pearsons Correlation\n",
    "# Based on the covariance and correlation given for the homeless enrollment and latitude variables, we can infer that there is\n",
    "# essentially no correlation between the variables. Checking for the scatterplot for any possible nonlinear correlation\n",
    "# confirms that any correlation seems to be non-existant.\n",
    "\n",
    "Corr(nohome, lat)"
   ]
  },
  {
   "cell_type": "code",
   "execution_count": 155,
   "id": "0f12d122",
   "metadata": {},
   "outputs": [],
   "source": [
    "# Creating a class and defining functions within it to perform a test on the hypothesis that latitude\n",
    "# and homelessness are related.\n",
    "\n",
    "class CorrelationPermute(thinkstats2.HypothesisTest):\n",
    "\n",
    "    def TestStatistic(self, data):\n",
    "        xs, ys = data\n",
    "        test_stat = abs(thinkstats2.Corr(xs, ys))\n",
    "        return test_stat\n",
    "\n",
    "    def RunModel(self):\n",
    "        xs, ys = self.data\n",
    "        xs = np.random.permutation(xs)\n",
    "        return xs, ys"
   ]
  },
  {
   "cell_type": "code",
   "execution_count": 156,
   "id": "65ce6995",
   "metadata": {},
   "outputs": [
    {
     "data": {
      "text/plain": [
       "0.736"
      ]
     },
     "execution_count": 156,
     "metadata": {},
     "output_type": "execute_result"
    }
   ],
   "source": [
    "# the p-value being so high indicates that their is no correlation\n",
    "\n",
    "data = nohome.values, lat.values\n",
    "ht = CorrelationPermute(data)\n",
    "pvalue = ht.PValue()\n",
    "pvalue"
   ]
  },
  {
   "cell_type": "code",
   "execution_count": 163,
   "id": "393a6bda",
   "metadata": {},
   "outputs": [
    {
     "data": {
      "text/html": [
       "<table class=\"simpletable\">\n",
       "<caption>OLS Regression Results</caption>\n",
       "<tr>\n",
       "  <th>Dep. Variable:</th>         <td>nohome</td>      <th>  R-squared:         </th> <td>   0.001</td>\n",
       "</tr>\n",
       "<tr>\n",
       "  <th>Model:</th>                   <td>OLS</td>       <th>  Adj. R-squared:    </th> <td>  -0.008</td>\n",
       "</tr>\n",
       "<tr>\n",
       "  <th>Method:</th>             <td>Least Squares</td>  <th>  F-statistic:       </th> <td>  0.1108</td>\n",
       "</tr>\n",
       "<tr>\n",
       "  <th>Date:</th>             <td>Fri, 18 Nov 2022</td> <th>  Prob (F-statistic):</th>  <td> 0.740</td> \n",
       "</tr>\n",
       "<tr>\n",
       "  <th>Time:</th>                 <td>22:08:04</td>     <th>  Log-Likelihood:    </th> <td> -495.75</td>\n",
       "</tr>\n",
       "<tr>\n",
       "  <th>No. Observations:</th>      <td>   116</td>      <th>  AIC:               </th> <td>   995.5</td>\n",
       "</tr>\n",
       "<tr>\n",
       "  <th>Df Residuals:</th>          <td>   114</td>      <th>  BIC:               </th> <td>   1001.</td>\n",
       "</tr>\n",
       "<tr>\n",
       "  <th>Df Model:</th>              <td>     1</td>      <th>                     </th>     <td> </td>   \n",
       "</tr>\n",
       "<tr>\n",
       "  <th>Covariance Type:</th>      <td>nonrobust</td>    <th>                     </th>     <td> </td>   \n",
       "</tr>\n",
       "</table>\n",
       "<table class=\"simpletable\">\n",
       "<tr>\n",
       "      <td></td>         <th>coef</th>     <th>std err</th>      <th>t</th>      <th>P>|t|</th>  <th>[0.025</th>    <th>0.975]</th>  \n",
       "</tr>\n",
       "<tr>\n",
       "  <th>Intercept</th> <td> -552.0234</td> <td> 1743.392</td> <td>   -0.317</td> <td> 0.752</td> <td>-4005.670</td> <td> 2901.623</td>\n",
       "</tr>\n",
       "<tr>\n",
       "  <th>lat</th>       <td>   14.9200</td> <td>   44.823</td> <td>    0.333</td> <td> 0.740</td> <td>  -73.873</td> <td>  103.713</td>\n",
       "</tr>\n",
       "</table>\n",
       "<table class=\"simpletable\">\n",
       "<tr>\n",
       "  <th>Omnibus:</th>       <td>37.126</td> <th>  Durbin-Watson:     </th> <td>   2.135</td>\n",
       "</tr>\n",
       "<tr>\n",
       "  <th>Prob(Omnibus):</th> <td> 0.000</td> <th>  Jarque-Bera (JB):  </th> <td>  63.251</td>\n",
       "</tr>\n",
       "<tr>\n",
       "  <th>Skew:</th>          <td> 1.460</td> <th>  Prob(JB):          </th> <td>1.84e-14</td>\n",
       "</tr>\n",
       "<tr>\n",
       "  <th>Kurtosis:</th>      <td> 5.134</td> <th>  Cond. No.          </th> <td>4.17e+04</td>\n",
       "</tr>\n",
       "</table><br/><br/>Notes:<br/>[1] Standard Errors assume that the covariance matrix of the errors is correctly specified.<br/>[2] The condition number is large, 4.17e+04. This might indicate that there are<br/>strong multicollinearity or other numerical problems."
      ],
      "text/plain": [
       "<class 'statsmodels.iolib.summary.Summary'>\n",
       "\"\"\"\n",
       "                            OLS Regression Results                            \n",
       "==============================================================================\n",
       "Dep. Variable:                 nohome   R-squared:                       0.001\n",
       "Model:                            OLS   Adj. R-squared:                 -0.008\n",
       "Method:                 Least Squares   F-statistic:                    0.1108\n",
       "Date:                Fri, 18 Nov 2022   Prob (F-statistic):              0.740\n",
       "Time:                        22:08:04   Log-Likelihood:                -495.75\n",
       "No. Observations:                 116   AIC:                             995.5\n",
       "Df Residuals:                     114   BIC:                             1001.\n",
       "Df Model:                           1                                         \n",
       "Covariance Type:            nonrobust                                         \n",
       "==============================================================================\n",
       "                 coef    std err          t      P>|t|      [0.025      0.975]\n",
       "------------------------------------------------------------------------------\n",
       "Intercept   -552.0234   1743.392     -0.317      0.752   -4005.670    2901.623\n",
       "lat           14.9200     44.823      0.333      0.740     -73.873     103.713\n",
       "==============================================================================\n",
       "Omnibus:                       37.126   Durbin-Watson:                   2.135\n",
       "Prob(Omnibus):                  0.000   Jarque-Bera (JB):               63.251\n",
       "Skew:                           1.460   Prob(JB):                     1.84e-14\n",
       "Kurtosis:                       5.134   Cond. No.                     4.17e+04\n",
       "==============================================================================\n",
       "\n",
       "Notes:\n",
       "[1] Standard Errors assume that the covariance matrix of the errors is correctly specified.\n",
       "[2] The condition number is large, 4.17e+04. This might indicate that there are\n",
       "strong multicollinearity or other numerical problems.\n",
       "\"\"\""
      ]
     },
     "execution_count": 163,
     "metadata": {},
     "output_type": "execute_result"
    }
   ],
   "source": [
    "# Conducting a regression analysis on the homeless enrollment and latitude variables\n",
    "\n",
    "import statsmodels.formula.api as smf\n",
    "\n",
    "formula = 'nohome ~ lat'\n",
    "model = smf.ols(formula, data=homeless)\n",
    "results = model.fit()\n",
    "results.summary()"
   ]
  },
  {
   "cell_type": "code",
   "execution_count": null,
   "id": "51eac11e",
   "metadata": {},
   "outputs": [],
   "source": [
    "# Summary\n",
    "\n",
    "# From the EDA performed on the dataset we used we can infer that there is no statistacal significance between homeless\n",
    "# students and how south or north in a city the school is. However after completing this project I realize that that analysis\n",
    "# is a weak one, considering we only looks at data from one city as a city of hundreds accross the United States, and\n",
    "# considering school with fewer than 10 homeless students were ommitted from the data to protect those students identities.\n",
    "\n",
    "# Something missing from my analysis that I forgot to consider until now was that my analysis only compared the number of\n",
    "# homeless students to its geographical latitude (whether the school was more north or south in the city). I'm just now\n",
    "# realizing that this is an unfair way to look at the data, since some schools have many more students than others, which\n",
    "# in return would logically lead to a higher amount of homeless students. If I was to go back and redo my analysis I would \n",
    "# try and create a new variable to compare with latitude, which would be the percentage of homeless students compared to \n",
    "# the total amount of students enrolled, and then see if, percentage wise, schools further south had more homeless than up\n",
    "# north. \n",
    "\n",
    "# Variables that could have helped during analysis include the one previously mentioned of the percentage of homeless students\n",
    "# to total students enrolled, as well as a variable that showed how much government funding each school was recieving.\n",
    "# Schools further north recieving more funding than schools further south could also be an indicator that northern parts of\n",
    "# cities tend to be the nicer areas. It could also have been useful to have a variable showing average household income of \n",
    "# students of each school for a similar reason. \n",
    "\n",
    "# While the point of this analysis was to disprove any correlation between the north side or south side of cities being nicer\n",
    "# or worse, with my hypothesis being that there would be no correlation between homeless students and location, I guess I still\n",
    "# thought that there might be at least a tiny bit of correlation, considering most stereotypes end up based in a grain of\n",
    "# truth. However the analysis did not show any real correlation at all related to the variables tested, but that could also \n",
    "# be due to the flaws in how I conducted my analysis.\n",
    "\n",
    "# I faced a lot of challenges during this project. I had a lot of trouble from the very beginning just getting the data I found\n",
    "# to use into juypiter to use and problems at first pulling specific variables out of it since they had two different names\n",
    "# depending on where you looked. I also ended up using a combination of code I knew how to use, code from the textbook, \n",
    "# and ways to code things I looked up on the internet, which got pretty confusing for me quickly. While I believe I eventually\n",
    "# got everything to work there were times where I wasn't 100% sure how I did, but I feel this project was a great learning\n",
    "# experience for me and feel great that I managed to overcome it! :)"
   ]
  }
 ],
 "metadata": {
  "kernelspec": {
   "display_name": "Python 3 (ipykernel)",
   "language": "python",
   "name": "python3"
  },
  "language_info": {
   "codemirror_mode": {
    "name": "ipython",
    "version": 3
   },
   "file_extension": ".py",
   "mimetype": "text/x-python",
   "name": "python",
   "nbconvert_exporter": "python",
   "pygments_lexer": "ipython3",
   "version": "3.9.7"
  }
 },
 "nbformat": 4,
 "nbformat_minor": 5
}
